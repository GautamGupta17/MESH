{
 "cells": [
  {
   "cell_type": "code",
   "execution_count": 7,
   "metadata": {},
   "outputs": [],
   "source": [
    "import os\n",
    "import pandas as pd"
   ]
  },
  {
   "cell_type": "code",
   "execution_count": 8,
   "metadata": {},
   "outputs": [],
   "source": [
    "def parquet_to_tsv(parquet_file, tsv_file):\n",
    "    # Read Parquet file into a DataFrame\n",
    "    df = pd.read_parquet(parquet_file)\n",
    "    \n",
    "    # Write DataFrame to TSV file\n",
    "    df.to_csv(tsv_file, sep='\\t', index=False)\n",
    "\n",
    "def convert_directory_parquet_to_tsv(parquet_dir, tsv_dir):\n",
    "    # Create the output directory if it doesn't exist\n",
    "    if not os.path.exists(tsv_dir):\n",
    "        os.makedirs(tsv_dir)\n",
    "\n",
    "    # Iterate over each file in the input directory\n",
    "    for file_name in os.listdir(parquet_dir):\n",
    "        if file_name.endswith('.parquet'):\n",
    "            # Generate input and output file paths\n",
    "            parquet_file = os.path.join(parquet_dir, file_name)\n",
    "            tsv_file = os.path.join(tsv_dir, os.path.splitext(file_name)[0] + '.tsv')\n",
    "\n",
    "            # Convert Parquet to TSV\n",
    "            parquet_to_tsv(parquet_file, tsv_file)\n"
   ]
  },
  {
   "cell_type": "code",
   "execution_count": 15,
   "metadata": {},
   "outputs": [],
   "source": [
    "# Example usage\n",
    "parquet_dir = 'paws-x/zh'\n",
    "tsv_dir = 'tsv_files'\n",
    "convert_directory_parquet_to_tsv(parquet_dir, tsv_dir)"
   ]
  }
 ],
 "metadata": {
  "kernelspec": {
   "display_name": "Python 3",
   "language": "python",
   "name": "python3"
  },
  "language_info": {
   "codemirror_mode": {
    "name": "ipython",
    "version": 3
   },
   "file_extension": ".py",
   "mimetype": "text/x-python",
   "name": "python",
   "nbconvert_exporter": "python",
   "pygments_lexer": "ipython3",
   "version": "3.12.3"
  }
 },
 "nbformat": 4,
 "nbformat_minor": 2
}
